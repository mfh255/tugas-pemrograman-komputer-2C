{
 "cells": [
  {
   "cell_type": "markdown",
   "metadata": {},
   "source": [
    "# LATIHAN ARRAY"
   ]
  },
  {
   "cell_type": "code",
   "execution_count": 8,
   "metadata": {},
   "outputs": [
    {
     "name": "stdout",
     "output_type": "stream",
     "text": [
      "perkalaian matriks array:\n",
      "[ 572 1008 1584]\n"
     ]
    }
   ],
   "source": [
    "\n",
    "# perkalaian matriks array\n",
    "\n",
    "import numpy as np\n",
    "A = np.array([22, 12, 24])\n",
    "B = np.array([26, 84, 66])\n",
    "\n",
    "perkalian = A * B\n",
    "print(\"perkalaian matriks array:\")\n",
    "print(perkalian)\n"
   ]
  },
  {
   "cell_type": "code",
   "execution_count": 9,
   "metadata": {},
   "outputs": [
    {
     "name": "stdout",
     "output_type": "stream",
     "text": [
      "pengurangan matriks array:\n",
      "[ 4 72 42]\n"
     ]
    }
   ],
   "source": [
    "# pengurangan matriks array\n",
    "\n",
    "import numpy as np\n",
    "A = np.array([22, 12, 24])\n",
    "B = np.array([26, 84, 66])\n",
    "\n",
    "pengurangan = B - A\n",
    "print(\"pengurangan matriks array:\")\n",
    "print(pengurangan)\n"
   ]
  },
  {
   "cell_type": "code",
   "execution_count": 5,
   "metadata": {},
   "outputs": [
    {
     "name": "stdout",
     "output_type": "stream",
     "text": [
      "transpose matriks array:\n",
      "[[22 26]\n",
      " [12 84]\n",
      " [24 66]]\n"
     ]
    }
   ],
   "source": [
    "# transpose matriks arrsy\n",
    "\n",
    "import numpy as np\n",
    "\n",
    "A = np.array([[22, 12, 24,], [26, 84, 66]])\n",
    "\n",
    "transpose_A = np.transpose(A)\n",
    "print(\"transpose matriks array:\")\n",
    "print(transpose_A)\n"
   ]
  },
  {
   "cell_type": "code",
   "execution_count": 14,
   "metadata": {},
   "outputs": [
    {
     "name": "stdout",
     "output_type": "stream",
     "text": [
      "invers matriks A:\n",
      "[[ 0.14864865 -0.02702703]\n",
      " [-0.18918919  0.04954955]]\n"
     ]
    }
   ],
   "source": [
    "# invers matriks array\n",
    "\n",
    "import numpy as np\n",
    "\n",
    "A = np.array([[22,12],[84,66]])\n",
    "\n",
    "invers_A = np.linalg.inv(A)\n",
    "print(\"invers matriks A:\")\n",
    "print(invers_A)"
   ]
  },
  {
   "cell_type": "code",
   "execution_count": 12,
   "metadata": {},
   "outputs": [
    {
     "name": "stdout",
     "output_type": "stream",
     "text": [
      "nilai determinan:\n",
      "determinan dari matriks A: 443.9999999999996\n"
     ]
    }
   ],
   "source": [
    "# determinan matriks array\n",
    "\n",
    "import numpy as np\n",
    "A = np.array([[22,12],[84,66]])\n",
    "\n",
    "determinant_A = np.linalg.det(A)\n",
    "print(\"nilai determinan:\")\n",
    "print(\"determinan dari matriks A:\", determinant_A)"
   ]
  }
 ],
 "metadata": {
  "kernelspec": {
   "display_name": "Python 3",
   "language": "python",
   "name": "python3"
  },
  "language_info": {
   "codemirror_mode": {
    "name": "ipython",
    "version": 3
   },
   "file_extension": ".py",
   "mimetype": "text/x-python",
   "name": "python",
   "nbconvert_exporter": "python",
   "pygments_lexer": "ipython3",
   "version": "3.12.2"
  }
 },
 "nbformat": 4,
 "nbformat_minor": 2
}
